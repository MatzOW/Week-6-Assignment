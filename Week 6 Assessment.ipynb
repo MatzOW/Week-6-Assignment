{
 "cells": [
  {
   "cell_type": "markdown",
   "id": "830323ca",
   "metadata": {},
   "source": [
    "### Assessment"
   ]
  },
  {
   "cell_type": "code",
   "execution_count": 1,
   "id": "3c430dea",
   "metadata": {},
   "outputs": [],
   "source": [
    "# Importing necessary libraries"
   ]
  },
  {
   "cell_type": "code",
   "execution_count": 2,
   "id": "ab83d434",
   "metadata": {},
   "outputs": [],
   "source": [
    "# necessary libraries\n",
    "import numpy as np\n",
    "import pandas as pd\n",
    "\n"
   ]
  },
  {
   "cell_type": "markdown",
   "id": "a53123f6",
   "metadata": {},
   "source": [
    "### Creating Log for the source code:"
   ]
  },
  {
   "cell_type": "code",
   "execution_count": 3,
   "id": "3eed8481",
   "metadata": {},
   "outputs": [],
   "source": [
    "# exporting log messages to an external log file called test_log.log:\n",
    "import logging\n",
    "logger = logging.getLogger()\n",
    "fhandler = logging.FileHandler(filename='test_log.log', mode='a')\n",
    "logger.addHandler(fhandler)\n",
    "logging.warning('This is a warning message')\n",
    "\n",
    "### Log file saved externally\n"
   ]
  },
  {
   "cell_type": "markdown",
   "id": "5efa87bd",
   "metadata": {},
   "source": [
    "### Finding Average marks and Grading according to grade Score"
   ]
  },
  {
   "cell_type": "code",
   "execution_count": 4,
   "id": "fe622d35",
   "metadata": {},
   "outputs": [
    {
     "data": {
      "text/html": [
       "<div>\n",
       "<style scoped>\n",
       "    .dataframe tbody tr th:only-of-type {\n",
       "        vertical-align: middle;\n",
       "    }\n",
       "\n",
       "    .dataframe tbody tr th {\n",
       "        vertical-align: top;\n",
       "    }\n",
       "\n",
       "    .dataframe thead th {\n",
       "        text-align: right;\n",
       "    }\n",
       "</style>\n",
       "<table border=\"1\" class=\"dataframe\">\n",
       "  <thead>\n",
       "    <tr style=\"text-align: right;\">\n",
       "      <th></th>\n",
       "      <th>Name</th>\n",
       "      <th>Surname</th>\n",
       "      <th>Algebra</th>\n",
       "      <th>Calculus</th>\n",
       "      <th>Programming</th>\n",
       "      <th>Databases</th>\n",
       "    </tr>\n",
       "  </thead>\n",
       "  <tbody>\n",
       "    <tr>\n",
       "      <th>0</th>\n",
       "      <td>Joe</td>\n",
       "      <td>Soap</td>\n",
       "      <td>92</td>\n",
       "      <td>78</td>\n",
       "      <td>65</td>\n",
       "      <td>67</td>\n",
       "    </tr>\n",
       "    <tr>\n",
       "      <th>1</th>\n",
       "      <td>Jane</td>\n",
       "      <td>Doe</td>\n",
       "      <td>81</td>\n",
       "      <td>79</td>\n",
       "      <td>83</td>\n",
       "      <td>89</td>\n",
       "    </tr>\n",
       "    <tr>\n",
       "      <th>2</th>\n",
       "      <td>Mary</td>\n",
       "      <td>Poppins</td>\n",
       "      <td>63</td>\n",
       "      <td>52</td>\n",
       "      <td>65</td>\n",
       "      <td>71</td>\n",
       "    </tr>\n",
       "    <tr>\n",
       "      <th>3</th>\n",
       "      <td>Mario</td>\n",
       "      <td>Rossi</td>\n",
       "      <td>23</td>\n",
       "      <td>42</td>\n",
       "      <td>50</td>\n",
       "      <td>44</td>\n",
       "    </tr>\n",
       "    <tr>\n",
       "      <th>4</th>\n",
       "      <td>John</td>\n",
       "      <td>Smith</td>\n",
       "      <td>56</td>\n",
       "      <td>67</td>\n",
       "      <td>72</td>\n",
       "      <td>72</td>\n",
       "    </tr>\n",
       "  </tbody>\n",
       "</table>\n",
       "</div>"
      ],
      "text/plain": [
       "    Name   Surname  Algebra  Calculus  Programming  Databases\n",
       "0    Joe      Soap       92        78           65         67\n",
       "1   Jane       Doe       81        79           83         89\n",
       "2   Mary   Poppins       63        52           65         71\n",
       "3  Mario     Rossi       23        42           50         44\n",
       "4   John     Smith       56        67           72         72"
      ]
     },
     "execution_count": 4,
     "metadata": {},
     "output_type": "execute_result"
    }
   ],
   "source": [
    "data=pd.read_csv('input.csv',delimiter=',', header=None, skiprows=1, names=['Name','Surname','Algebra', 'Calculus', 'Programming', 'Databases']) #Display the dataset \n",
    "data.head()"
   ]
  },
  {
   "cell_type": "code",
   "execution_count": 5,
   "id": "20dcab21",
   "metadata": {
    "scrolled": true
   },
   "outputs": [],
   "source": [
    "d=data[['Algebra', 'Calculus', 'Programming', 'Databases']]\n"
   ]
  },
  {
   "cell_type": "code",
   "execution_count": 6,
   "id": "e0a01189",
   "metadata": {},
   "outputs": [
    {
     "name": "stdout",
     "output_type": "stream",
     "text": [
      "0    75.5\n",
      "1    83.0\n",
      "2    62.8\n",
      "3    39.8\n",
      "4    66.8\n",
      "5    63.8\n",
      "6    48.2\n",
      "7    58.5\n",
      "8    75.8\n",
      "9    86.8\n",
      "dtype: float64\n"
     ]
    }
   ],
   "source": [
    "Average1 = d.mean(axis=1)\n",
    "Average=Average1.round(1)\n",
    "print (Average)"
   ]
  },
  {
   "cell_type": "code",
   "execution_count": 7,
   "id": "49f9a054",
   "metadata": {},
   "outputs": [
    {
     "name": "stderr",
     "output_type": "stream",
     "text": [
      "<ipython-input-7-6138c17961bb>:1: SettingWithCopyWarning: \n",
      "A value is trying to be set on a copy of a slice from a DataFrame.\n",
      "Try using .loc[row_indexer,col_indexer] = value instead\n",
      "\n",
      "See the caveats in the documentation: https://pandas.pydata.org/pandas-docs/stable/user_guide/indexing.html#returning-a-view-versus-a-copy\n",
      "  d['Average']= Average\n"
     ]
    },
    {
     "data": {
      "text/html": [
       "<div>\n",
       "<style scoped>\n",
       "    .dataframe tbody tr th:only-of-type {\n",
       "        vertical-align: middle;\n",
       "    }\n",
       "\n",
       "    .dataframe tbody tr th {\n",
       "        vertical-align: top;\n",
       "    }\n",
       "\n",
       "    .dataframe thead th {\n",
       "        text-align: right;\n",
       "    }\n",
       "</style>\n",
       "<table border=\"1\" class=\"dataframe\">\n",
       "  <thead>\n",
       "    <tr style=\"text-align: right;\">\n",
       "      <th></th>\n",
       "      <th>Algebra</th>\n",
       "      <th>Calculus</th>\n",
       "      <th>Programming</th>\n",
       "      <th>Databases</th>\n",
       "      <th>Average</th>\n",
       "    </tr>\n",
       "  </thead>\n",
       "  <tbody>\n",
       "    <tr>\n",
       "      <th>0</th>\n",
       "      <td>92</td>\n",
       "      <td>78</td>\n",
       "      <td>65</td>\n",
       "      <td>67</td>\n",
       "      <td>75.5</td>\n",
       "    </tr>\n",
       "    <tr>\n",
       "      <th>1</th>\n",
       "      <td>81</td>\n",
       "      <td>79</td>\n",
       "      <td>83</td>\n",
       "      <td>89</td>\n",
       "      <td>83.0</td>\n",
       "    </tr>\n",
       "    <tr>\n",
       "      <th>2</th>\n",
       "      <td>63</td>\n",
       "      <td>52</td>\n",
       "      <td>65</td>\n",
       "      <td>71</td>\n",
       "      <td>62.8</td>\n",
       "    </tr>\n",
       "    <tr>\n",
       "      <th>3</th>\n",
       "      <td>23</td>\n",
       "      <td>42</td>\n",
       "      <td>50</td>\n",
       "      <td>44</td>\n",
       "      <td>39.8</td>\n",
       "    </tr>\n",
       "    <tr>\n",
       "      <th>4</th>\n",
       "      <td>56</td>\n",
       "      <td>67</td>\n",
       "      <td>72</td>\n",
       "      <td>72</td>\n",
       "      <td>66.8</td>\n",
       "    </tr>\n",
       "  </tbody>\n",
       "</table>\n",
       "</div>"
      ],
      "text/plain": [
       "   Algebra  Calculus  Programming  Databases  Average\n",
       "0       92        78           65         67     75.5\n",
       "1       81        79           83         89     83.0\n",
       "2       63        52           65         71     62.8\n",
       "3       23        42           50         44     39.8\n",
       "4       56        67           72         72     66.8"
      ]
     },
     "execution_count": 7,
     "metadata": {},
     "output_type": "execute_result"
    }
   ],
   "source": [
    "\n",
    "d['Average']= Average\n",
    "d.head()"
   ]
  },
  {
   "cell_type": "code",
   "execution_count": null,
   "id": "1293d52d",
   "metadata": {},
   "outputs": [],
   "source": []
  },
  {
   "cell_type": "code",
   "execution_count": 10,
   "id": "0aa056d6",
   "metadata": {},
   "outputs": [],
   "source": [
    "d['Grade'] = np.where(d['Average'] >=80, 'A', \n",
    "             np.where((d['Average'] >=70) & (d['Average'] <=79.9 ),'B', \n",
    "             np.where((d['Average'] >=60) & (d['Average']<=69.9 ),'C', \n",
    "             np.where((d['Average'] >=50) & (d['Average'] <=59.9 ),'D',\n",
    "             np.where((d['Average'] >=40) & (d['Average'] <=49.9 ),'E',\n",
    "             np.where((d['Average'] >=0) & (d['Average'] <=39.9 ), 'U', 1)))))) \n"
   ]
  },
  {
   "cell_type": "code",
   "execution_count": 14,
   "id": "8585f266",
   "metadata": {},
   "outputs": [
    {
     "name": "stdout",
     "output_type": "stream",
     "text": [
      "   Algebra  Calculus  Programming  Databases  Average Grade\n",
      "0       92        78           65         67     75.5     B\n",
      "1       81        79           83         89     83.0     A\n",
      "2       63        52           65         71     62.8     C\n",
      "3       23        42           50         44     39.8     U\n",
      "4       56        67           72         72     66.8     C\n",
      "5       81        62           53         59     63.8     C\n",
      "6       41        48           51         53     48.2     E\n",
      "7       55        55           66         58     58.5     D\n",
      "8       57        87           95         64     75.8     B\n",
      "9       97        91           86         73     86.8     A\n"
     ]
    }
   ],
   "source": [
    "print (d)"
   ]
  },
  {
   "cell_type": "markdown",
   "id": "27f606a2",
   "metadata": {},
   "source": [
    "### Unit Test for Average Grade score"
   ]
  },
  {
   "cell_type": "code",
   "execution_count": 11,
   "id": "92371289",
   "metadata": {},
   "outputs": [],
   "source": [
    "import unittest"
   ]
  },
  {
   "cell_type": "code",
   "execution_count": 12,
   "id": "254132ac",
   "metadata": {},
   "outputs": [
    {
     "name": "stderr",
     "output_type": "stream",
     "text": [
      "E\n",
      "======================================================================\n",
      "ERROR: C:\\Users\\matlo\\AppData\\Roaming\\jupyter\\runtime\\kernel-5d1aeec0-efe3-4256-86f9-99b636e66e95 (unittest.loader._FailedTest)\n",
      "----------------------------------------------------------------------\n",
      "AttributeError: module '__main__' has no attribute 'C:\\Users\\matlo\\AppData\\Roaming\\jupyter\\runtime\\kernel-5d1aeec0-efe3-4256-86f9-99b636e66e95'\n",
      "\n",
      "----------------------------------------------------------------------\n",
      "Ran 1 test in 0.002s\n",
      "\n",
      "FAILED (errors=1)\n"
     ]
    },
    {
     "ename": "SystemExit",
     "evalue": "True",
     "output_type": "error",
     "traceback": [
      "An exception has occurred, use %tb to see the full traceback.\n",
      "\u001b[1;31mSystemExit\u001b[0m\u001b[1;31m:\u001b[0m True\n"
     ]
    },
    {
     "name": "stderr",
     "output_type": "stream",
     "text": [
      "C:\\Users\\matlo\\anaconda3\\lib\\site-packages\\IPython\\core\\interactiveshell.py:3445: UserWarning: To exit: use 'exit', 'quit', or Ctrl-D.\n",
      "  warn(\"To exit: use 'exit', 'quit', or Ctrl-D.\", stacklevel=1)\n"
     ]
    }
   ],
   "source": [
    "# create a class\n",
    "class TestXXXXX(unittest.TestCase):\n",
    "   \n",
    "      # define a function\n",
    "    def test_xxxxxxx(self):\n",
    "       \n",
    "        data = [63,52, 65, 71]\n",
    "        result = mean(data)\n",
    "        self.assertEqual(result, 62.75)\n",
    " \n",
    "# driver code\n",
    "if __name__ == '__main__':\n",
    "   \n",
    "    unittest.main()"
   ]
  },
  {
   "cell_type": "code",
   "execution_count": 13,
   "id": "c08b5c79",
   "metadata": {},
   "outputs": [
    {
     "name": "stdout",
     "output_type": "stream",
     "text": [
      "   Algebra  Calculus  Programming  Databases  Average Grade\n",
      "0       92        78           65         67     75.5     B\n",
      "1       81        79           83         89     83.0     A\n",
      "2       63        52           65         71     62.8     C\n",
      "3       23        42           50         44     39.8     U\n",
      "4       56        67           72         72     66.8     C\n",
      "5       81        62           53         59     63.8     C\n",
      "6       41        48           51         53     48.2     E\n",
      "7       55        55           66         58     58.5     D\n",
      "8       57        87           95         64     75.8     B\n",
      "9       97        91           86         73     86.8     A\n"
     ]
    }
   ],
   "source": []
  },
  {
   "cell_type": "code",
   "execution_count": null,
   "id": "7ca53137",
   "metadata": {},
   "outputs": [],
   "source": [
    "#d.to_csv('output.csv', index=False)"
   ]
  },
  {
   "cell_type": "code",
   "execution_count": null,
   "id": "2a290116",
   "metadata": {},
   "outputs": [],
   "source": [
    "# Check f the output csv works:"
   ]
  },
  {
   "cell_type": "code",
   "execution_count": null,
   "id": "8927db41",
   "metadata": {},
   "outputs": [],
   "source": [
    "#df=pd.read_csv('output.csv') #Display the dataset \n",
    "#df.head()"
   ]
  },
  {
   "cell_type": "code",
   "execution_count": null,
   "id": "599c4964",
   "metadata": {},
   "outputs": [],
   "source": []
  },
  {
   "cell_type": "code",
   "execution_count": null,
   "id": "6ecda65f",
   "metadata": {},
   "outputs": [],
   "source": []
  },
  {
   "cell_type": "code",
   "execution_count": null,
   "id": "d4c07403",
   "metadata": {},
   "outputs": [],
   "source": []
  },
  {
   "cell_type": "code",
   "execution_count": null,
   "id": "cb1bc306",
   "metadata": {},
   "outputs": [],
   "source": []
  }
 ],
 "metadata": {
  "kernelspec": {
   "display_name": "Python 3",
   "language": "python",
   "name": "python3"
  },
  "language_info": {
   "codemirror_mode": {
    "name": "ipython",
    "version": 3
   },
   "file_extension": ".py",
   "mimetype": "text/x-python",
   "name": "python",
   "nbconvert_exporter": "python",
   "pygments_lexer": "ipython3",
   "version": "3.8.8"
  }
 },
 "nbformat": 4,
 "nbformat_minor": 5
}
